{
 "cells": [
  {
   "cell_type": "code",
   "execution_count": 1,
   "metadata": {
    "id": "aA6OtS1p5R7c"
   },
   "outputs": [],
   "source": [
    "from tensorflow.keras.models import load_model\n",
    "\n",
    "# Load the saved model\n",
    "model = load_model('/content/drive/MyDrive/my_model.h5')"
   ]
  },
  {
   "cell_type": "code",
   "execution_count": 2,
   "metadata": {
    "colab": {
     "base_uri": "https://localhost:8080/"
    },
    "id": "5tqMeNtz-C31",
    "outputId": "925f47aa-c08d-491f-ba8b-6b227039b4b5"
   },
   "outputs": [
    {
     "name": "stdout",
     "output_type": "stream",
     "text": [
      "1/1 [==============================] - 0s 413ms/step\n",
      "Prediction: ModeratDemented\n"
     ]
    }
   ],
   "source": [
    "import cv2\n",
    "import numpy as np\n",
    "from tensorflow.keras.models import load_model\n",
    "\n",
    "def load_image(image_path):\n",
    "    # Load the image using OpenCV\n",
    "    image = cv2.imread(image_path)\n",
    "    # Resize the image to match the input shape of the model\n",
    "    image = cv2.resize(image, (224, 224))\n",
    "    # Preprocess the image (e.g., normalize, convert to array, etc.)\n",
    "    image = image.astype(np.float32) / 255.0\n",
    "    # Add an extra dimension to match the input shape of the model\n",
    "    image = np.expand_dims(image, axis=0)\n",
    "    return image\n",
    "\n",
    "def predict_image(image_path, model):\n",
    "    # Load the image\n",
    "    image = load_image(image_path)\n",
    "    # Perform the prediction\n",
    "    predictions = model.predict(image)\n",
    "    # Get the predicted class index\n",
    "    predicted_class = np.argmax(predictions, axis=1)[0]\n",
    "    # Map the class index to the corresponding label\n",
    "    class_labels = ['MildDemented', 'ModeratDemented', 'NonDemented', 'MieldDemented']  # Example labels\n",
    "    predicted_label = class_labels[predicted_class]\n",
    "    return predicted_label\n",
    "\n",
    "# Specify the path to the image you want to predict\n",
    "image_path = '/content/moderateDem51 .jpg'\n",
    "\n",
    "# Perform the prediction\n",
    "prediction = predict_image(image_path, model)\n",
    "\n",
    "# Print the predicted label\n",
    "print('Prediction:', prediction)"
   ]
  }
 ],
 "metadata": {
  "colab": {
   "provenance": []
  },
  "kernelspec": {
   "display_name": "Python 3 (ipykernel)",
   "language": "python",
   "name": "python3"
  },
  "language_info": {
   "codemirror_mode": {
    "name": "ipython",
    "version": 3
   },
   "file_extension": ".py",
   "mimetype": "text/x-python",
   "name": "python",
   "nbconvert_exporter": "python",
   "pygments_lexer": "ipython3",
   "version": "3.11.3"
  }
 },
 "nbformat": 4,
 "nbformat_minor": 1
}
